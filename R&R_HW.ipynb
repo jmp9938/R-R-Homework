{
  "nbformat": 4,
  "nbformat_minor": 0,
  "metadata": {
    "colab": {
      "provenance": [],
      "authorship_tag": "ABX9TyOS/KVKAQ2qNDtq+cLwZa3Z",
      "include_colab_link": true
    },
    "kernelspec": {
      "name": "python3",
      "display_name": "Python 3"
    },
    "language_info": {
      "name": "python"
    }
  },
  "cells": [
    {
      "cell_type": "markdown",
      "metadata": {
        "id": "view-in-github",
        "colab_type": "text"
      },
      "source": [
        "<a href=\"https://colab.research.google.com/github/jmp9938/R-R-Homework/blob/main/R%26R_HW.ipynb\" target=\"_parent\"><img src=\"https://colab.research.google.com/assets/colab-badge.svg\" alt=\"Open In Colab\"/></a>"
      ]
    },
    {
      "cell_type": "markdown",
      "source": [
        "10/29/24 Jared Plotkin"
      ],
      "metadata": {
        "id": "Vp4vHs7YgPW5"
      }
    },
    {
      "cell_type": "code",
      "source": [
        "2*13"
      ],
      "metadata": {
        "colab": {
          "base_uri": "https://localhost:8080/"
        },
        "id": "aQPMQ1DJgRIv",
        "outputId": "4401f42b-cade-4c5e-89a3-c6eea54c869c"
      },
      "execution_count": 1,
      "outputs": [
        {
          "output_type": "execute_result",
          "data": {
            "text/plain": [
              "26"
            ]
          },
          "metadata": {},
          "execution_count": 1
        }
      ]
    },
    {
      "cell_type": "markdown",
      "source": [
        "Using repositories like GitHub is essential for enhancing computational reproducibility in research and software development. By providing a centralized platform for storing code, data, and documentation, these repositories facilitate easier access and collaboration among researchers. When projects are hosted on GitHub, they can be version-controlled, allowing users to track changes meticulously over time. This means that every modification, whether it's a small bug fix or a significant algorithm update, is recorded with a clear history, making it easy to revert to previous versions if necessary.\n",
        "\n",
        "Furthermore, the use of branches allows multiple contributors to work on different features or experiments simultaneously without disrupting the main codebase. This encourages experimentation while maintaining the integrity of the original work, which is vital for reproducibility. When results can be traced back to specific commits, other researchers can more readily validate findings by replicating the exact conditions under which the original work was conducted.\n",
        "\n",
        "Finally, in a world where analysis of data is becoming just as important than the collection of that data it is extremely helpful to have a site where you can access code from other researchers easily."
      ],
      "metadata": {
        "id": "6gUI7f61gU-c"
      }
    }
  ]
}